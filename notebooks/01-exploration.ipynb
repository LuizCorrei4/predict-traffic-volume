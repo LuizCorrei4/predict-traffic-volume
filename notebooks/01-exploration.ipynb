{
 "cells": [
  {
   "cell_type": "markdown",
   "id": "419b87fc",
   "metadata": {},
   "source": [
    "# Import data and libraries"
   ]
  },
  {
   "cell_type": "code",
   "execution_count": 1,
   "id": "68e97c74",
   "metadata": {},
   "outputs": [],
   "source": [
    "import pandas as pd\n",
    "import seaborn as sns\n",
    "import matplotlib.pyplot as plt\n",
    "\n",
    "# Load dataset\n",
    "caminho_arquivo = '../data/Metro_Interstate_Traffic_Volume.csv'\n",
    "df = pd.read_csv(caminho_arquivo)"
   ]
  },
  {
   "cell_type": "markdown",
   "id": "6e14791d",
   "metadata": {},
   "source": [
    "# Basic informations about the dataset"
   ]
  },
  {
   "cell_type": "markdown",
   "id": "6e13c5d0",
   "metadata": {},
   "source": [
    "## Head (First Five Rows)"
   ]
  },
  {
   "cell_type": "code",
   "execution_count": 2,
   "id": "a430fb11",
   "metadata": {},
   "outputs": [
    {
     "data": {
      "text/html": [
       "<div>\n",
       "<style scoped>\n",
       "    .dataframe tbody tr th:only-of-type {\n",
       "        vertical-align: middle;\n",
       "    }\n",
       "\n",
       "    .dataframe tbody tr th {\n",
       "        vertical-align: top;\n",
       "    }\n",
       "\n",
       "    .dataframe thead th {\n",
       "        text-align: right;\n",
       "    }\n",
       "</style>\n",
       "<table border=\"1\" class=\"dataframe\">\n",
       "  <thead>\n",
       "    <tr style=\"text-align: right;\">\n",
       "      <th></th>\n",
       "      <th>holiday</th>\n",
       "      <th>temp</th>\n",
       "      <th>rain_1h</th>\n",
       "      <th>snow_1h</th>\n",
       "      <th>clouds_all</th>\n",
       "      <th>weather_main</th>\n",
       "      <th>weather_description</th>\n",
       "      <th>date_time</th>\n",
       "      <th>traffic_volume</th>\n",
       "    </tr>\n",
       "  </thead>\n",
       "  <tbody>\n",
       "    <tr>\n",
       "      <th>0</th>\n",
       "      <td>NaN</td>\n",
       "      <td>288.28</td>\n",
       "      <td>0.0</td>\n",
       "      <td>0.0</td>\n",
       "      <td>40</td>\n",
       "      <td>Clouds</td>\n",
       "      <td>scattered clouds</td>\n",
       "      <td>2012-10-02 09:00:00</td>\n",
       "      <td>5545</td>\n",
       "    </tr>\n",
       "    <tr>\n",
       "      <th>1</th>\n",
       "      <td>NaN</td>\n",
       "      <td>289.36</td>\n",
       "      <td>0.0</td>\n",
       "      <td>0.0</td>\n",
       "      <td>75</td>\n",
       "      <td>Clouds</td>\n",
       "      <td>broken clouds</td>\n",
       "      <td>2012-10-02 10:00:00</td>\n",
       "      <td>4516</td>\n",
       "    </tr>\n",
       "    <tr>\n",
       "      <th>2</th>\n",
       "      <td>NaN</td>\n",
       "      <td>289.58</td>\n",
       "      <td>0.0</td>\n",
       "      <td>0.0</td>\n",
       "      <td>90</td>\n",
       "      <td>Clouds</td>\n",
       "      <td>overcast clouds</td>\n",
       "      <td>2012-10-02 11:00:00</td>\n",
       "      <td>4767</td>\n",
       "    </tr>\n",
       "    <tr>\n",
       "      <th>3</th>\n",
       "      <td>NaN</td>\n",
       "      <td>290.13</td>\n",
       "      <td>0.0</td>\n",
       "      <td>0.0</td>\n",
       "      <td>90</td>\n",
       "      <td>Clouds</td>\n",
       "      <td>overcast clouds</td>\n",
       "      <td>2012-10-02 12:00:00</td>\n",
       "      <td>5026</td>\n",
       "    </tr>\n",
       "    <tr>\n",
       "      <th>4</th>\n",
       "      <td>NaN</td>\n",
       "      <td>291.14</td>\n",
       "      <td>0.0</td>\n",
       "      <td>0.0</td>\n",
       "      <td>75</td>\n",
       "      <td>Clouds</td>\n",
       "      <td>broken clouds</td>\n",
       "      <td>2012-10-02 13:00:00</td>\n",
       "      <td>4918</td>\n",
       "    </tr>\n",
       "  </tbody>\n",
       "</table>\n",
       "</div>"
      ],
      "text/plain": [
       "  holiday    temp  rain_1h  snow_1h  clouds_all weather_main  \\\n",
       "0     NaN  288.28      0.0      0.0          40       Clouds   \n",
       "1     NaN  289.36      0.0      0.0          75       Clouds   \n",
       "2     NaN  289.58      0.0      0.0          90       Clouds   \n",
       "3     NaN  290.13      0.0      0.0          90       Clouds   \n",
       "4     NaN  291.14      0.0      0.0          75       Clouds   \n",
       "\n",
       "  weather_description            date_time  traffic_volume  \n",
       "0    scattered clouds  2012-10-02 09:00:00            5545  \n",
       "1       broken clouds  2012-10-02 10:00:00            4516  \n",
       "2     overcast clouds  2012-10-02 11:00:00            4767  \n",
       "3     overcast clouds  2012-10-02 12:00:00            5026  \n",
       "4       broken clouds  2012-10-02 13:00:00            4918  "
      ]
     },
     "execution_count": 2,
     "metadata": {},
     "output_type": "execute_result"
    }
   ],
   "source": [
    "df.head()"
   ]
  },
  {
   "cell_type": "markdown",
   "id": "4acda234",
   "metadata": {},
   "source": [
    "## Tail (Last Five Rows)"
   ]
  },
  {
   "cell_type": "code",
   "execution_count": 3,
   "id": "4f90884c",
   "metadata": {},
   "outputs": [
    {
     "data": {
      "text/html": [
       "<div>\n",
       "<style scoped>\n",
       "    .dataframe tbody tr th:only-of-type {\n",
       "        vertical-align: middle;\n",
       "    }\n",
       "\n",
       "    .dataframe tbody tr th {\n",
       "        vertical-align: top;\n",
       "    }\n",
       "\n",
       "    .dataframe thead th {\n",
       "        text-align: right;\n",
       "    }\n",
       "</style>\n",
       "<table border=\"1\" class=\"dataframe\">\n",
       "  <thead>\n",
       "    <tr style=\"text-align: right;\">\n",
       "      <th></th>\n",
       "      <th>holiday</th>\n",
       "      <th>temp</th>\n",
       "      <th>rain_1h</th>\n",
       "      <th>snow_1h</th>\n",
       "      <th>clouds_all</th>\n",
       "      <th>weather_main</th>\n",
       "      <th>weather_description</th>\n",
       "      <th>date_time</th>\n",
       "      <th>traffic_volume</th>\n",
       "    </tr>\n",
       "  </thead>\n",
       "  <tbody>\n",
       "    <tr>\n",
       "      <th>48199</th>\n",
       "      <td>NaN</td>\n",
       "      <td>283.45</td>\n",
       "      <td>0.0</td>\n",
       "      <td>0.0</td>\n",
       "      <td>75</td>\n",
       "      <td>Clouds</td>\n",
       "      <td>broken clouds</td>\n",
       "      <td>2018-09-30 19:00:00</td>\n",
       "      <td>3543</td>\n",
       "    </tr>\n",
       "    <tr>\n",
       "      <th>48200</th>\n",
       "      <td>NaN</td>\n",
       "      <td>282.76</td>\n",
       "      <td>0.0</td>\n",
       "      <td>0.0</td>\n",
       "      <td>90</td>\n",
       "      <td>Clouds</td>\n",
       "      <td>overcast clouds</td>\n",
       "      <td>2018-09-30 20:00:00</td>\n",
       "      <td>2781</td>\n",
       "    </tr>\n",
       "    <tr>\n",
       "      <th>48201</th>\n",
       "      <td>NaN</td>\n",
       "      <td>282.73</td>\n",
       "      <td>0.0</td>\n",
       "      <td>0.0</td>\n",
       "      <td>90</td>\n",
       "      <td>Thunderstorm</td>\n",
       "      <td>proximity thunderstorm</td>\n",
       "      <td>2018-09-30 21:00:00</td>\n",
       "      <td>2159</td>\n",
       "    </tr>\n",
       "    <tr>\n",
       "      <th>48202</th>\n",
       "      <td>NaN</td>\n",
       "      <td>282.09</td>\n",
       "      <td>0.0</td>\n",
       "      <td>0.0</td>\n",
       "      <td>90</td>\n",
       "      <td>Clouds</td>\n",
       "      <td>overcast clouds</td>\n",
       "      <td>2018-09-30 22:00:00</td>\n",
       "      <td>1450</td>\n",
       "    </tr>\n",
       "    <tr>\n",
       "      <th>48203</th>\n",
       "      <td>NaN</td>\n",
       "      <td>282.12</td>\n",
       "      <td>0.0</td>\n",
       "      <td>0.0</td>\n",
       "      <td>90</td>\n",
       "      <td>Clouds</td>\n",
       "      <td>overcast clouds</td>\n",
       "      <td>2018-09-30 23:00:00</td>\n",
       "      <td>954</td>\n",
       "    </tr>\n",
       "  </tbody>\n",
       "</table>\n",
       "</div>"
      ],
      "text/plain": [
       "      holiday    temp  rain_1h  snow_1h  clouds_all  weather_main  \\\n",
       "48199     NaN  283.45      0.0      0.0          75        Clouds   \n",
       "48200     NaN  282.76      0.0      0.0          90        Clouds   \n",
       "48201     NaN  282.73      0.0      0.0          90  Thunderstorm   \n",
       "48202     NaN  282.09      0.0      0.0          90        Clouds   \n",
       "48203     NaN  282.12      0.0      0.0          90        Clouds   \n",
       "\n",
       "          weather_description            date_time  traffic_volume  \n",
       "48199           broken clouds  2018-09-30 19:00:00            3543  \n",
       "48200         overcast clouds  2018-09-30 20:00:00            2781  \n",
       "48201  proximity thunderstorm  2018-09-30 21:00:00            2159  \n",
       "48202         overcast clouds  2018-09-30 22:00:00            1450  \n",
       "48203         overcast clouds  2018-09-30 23:00:00             954  "
      ]
     },
     "execution_count": 3,
     "metadata": {},
     "output_type": "execute_result"
    }
   ],
   "source": [
    "df.tail()"
   ]
  },
  {
   "cell_type": "markdown",
   "id": "f8b1acb7",
   "metadata": {},
   "source": [
    "Please note that observations are made on an hourly basis, capturing real-time details such as temperature, precipitation, and weather conditions, with the primary metric being traffic volume."
   ]
  },
  {
   "cell_type": "markdown",
   "id": "f8d79135",
   "metadata": {},
   "source": [
    "## Shape (number of rows and columns)"
   ]
  },
  {
   "cell_type": "code",
   "execution_count": 4,
   "id": "4e764fb1",
   "metadata": {},
   "outputs": [
    {
     "name": "stdout",
     "output_type": "stream",
     "text": [
      "\n",
      "Dataset dimensions (rows, columns):\n"
     ]
    },
    {
     "data": {
      "text/plain": [
       "(48204, 9)"
      ]
     },
     "execution_count": 4,
     "metadata": {},
     "output_type": "execute_result"
    }
   ],
   "source": [
    "print(\"\\nDataset dimensions (rows, columns):\")\n",
    "df.shape"
   ]
  },
  {
   "cell_type": "markdown",
   "id": "f2ca7655",
   "metadata": {},
   "source": [
    "## Technical Informations"
   ]
  },
  {
   "cell_type": "code",
   "execution_count": 5,
   "id": "48e2045d",
   "metadata": {},
   "outputs": [
    {
     "name": "stdout",
     "output_type": "stream",
     "text": [
      "<class 'pandas.core.frame.DataFrame'>\n",
      "RangeIndex: 48204 entries, 0 to 48203\n",
      "Data columns (total 9 columns):\n",
      " #   Column               Non-Null Count  Dtype  \n",
      "---  ------               --------------  -----  \n",
      " 0   holiday              61 non-null     object \n",
      " 1   temp                 48204 non-null  float64\n",
      " 2   rain_1h              48204 non-null  float64\n",
      " 3   snow_1h              48204 non-null  float64\n",
      " 4   clouds_all           48204 non-null  int64  \n",
      " 5   weather_main         48204 non-null  object \n",
      " 6   weather_description  48204 non-null  object \n",
      " 7   date_time            48204 non-null  object \n",
      " 8   traffic_volume       48204 non-null  int64  \n",
      "dtypes: float64(3), int64(2), object(4)\n",
      "memory usage: 3.3+ MB\n"
     ]
    }
   ],
   "source": [
    "df.info()"
   ]
  },
  {
   "cell_type": "markdown",
   "id": "b9784a56",
   "metadata": {},
   "source": [
    "Note that the 'holiday' column only contains 61 non-null values because only a minority of days are holidays.  "
   ]
  },
  {
   "cell_type": "markdown",
   "id": "594e9cef",
   "metadata": {},
   "source": [
    "## Analysis of Temporal Gaps"
   ]
  },
  {
   "cell_type": "code",
   "execution_count": 7,
   "id": "ab675dfc",
   "metadata": {},
   "outputs": [
    {
     "name": "stdout",
     "output_type": "stream",
     "text": [
      "Start date: 2012-10-02 09:00:00\n",
      "End date: 2018-09-30 23:00:00\n",
      "Total records: 48204\n"
     ]
    }
   ],
   "source": [
    "# --- Prepare data of date time ---\n",
    "\n",
    "# Convert the column 'date_time' to the datetime format of pandas\n",
    "# Essential for any time series analysis\n",
    "df['date_time'] = pd.to_datetime(df['date_time'])\n",
    "\n",
    "# Set the 'date_time' column as the index of the DataFrame to make it easier to work with time series data\n",
    "df = df.set_index('date_time')\n",
    "\n",
    "# Sort the index to ensure the data is in chronological order\n",
    "df = df.sort_index()\n",
    "\n",
    "# Show the start and end of the data to confirm the period\n",
    "print(f\"Start date: {df.index.min()}\")\n",
    "print(f\"End date: {df.index.max()}\")\n",
    "print(f\"Total records: {len(df)}\")\n"
   ]
  },
  {
   "cell_type": "markdown",
   "id": "7f83a00f",
   "metadata": {},
   "source": [
    "So, observing the start and end date of the observations, we see that, in fact, the data was collected from October 2012 to September 2018."
   ]
  },
  {
   "cell_type": "markdown",
   "id": "0c371eba",
   "metadata": {},
   "source": [
    "## Removing the duplicates "
   ]
  },
  {
   "cell_type": "code",
   "execution_count": 15,
   "id": "696634ec",
   "metadata": {},
   "outputs": [
    {
     "name": "stdout",
     "output_type": "stream",
     "text": [
      "Number of duplicate rows (by index): 7629\n",
      "Aggregation rules defined:\n",
      "{'temp': 'mean', 'rain_1h': 'mean', 'snow_1h': 'mean', 'clouds_all': 'mean', 'traffic_volume': 'mean', 'holiday': 'first', 'weather_main': 'first', 'weather_description': 'first'}\n",
      "------------------------------------------------------------\n",
      "Original number of rows: 48204\n",
      "Number of rows after aggregation: 40575\n",
      "Number of duplicate timestamps now: 0\n"
     ]
    }
   ],
   "source": [
    "# Check how many duplicates exist\n",
    "print(f\"Number of duplicate rows (by index): {df.index.duplicated().sum()}\")\n",
    "\n",
    "# --- Handle Conflicting Duplicate Timestamps ---\n",
    "\n",
    "# 1. Define which columns are numeric and which are categorical\n",
    "#    (Note: 'traffic_volume' is treated as numeric for aggregation)\n",
    "numeric_cols = ['temp', 'rain_1h', 'snow_1h', 'clouds_all', 'traffic_volume']\n",
    "categorical_cols = ['holiday', 'weather_main', 'weather_description']\n",
    "\n",
    "# 2. Create a dictionary of aggregation rules\n",
    "agg_rules = {}\n",
    "\n",
    "# Rule for numeric: take the mean\n",
    "for col in numeric_cols:\n",
    "    agg_rules[col] = 'mean'\n",
    "\n",
    "# Rule for categorical: take the first occurrence\n",
    "for col in categorical_cols:\n",
    "    agg_rules[col] = 'first'\n",
    "\n",
    "print(\"Aggregation rules defined:\")\n",
    "print(agg_rules)\n",
    "print(\"-\" * 60)\n",
    "\n",
    "# 3. Group by the index (timestamp) and apply the aggregation rules\n",
    "#    This will merge all rows with the same timestamp into one.\n",
    "df_aggregated = df.groupby(df.index).agg(agg_rules)\n",
    "\n",
    "# 4. Check the results\n",
    "print(f\"Original number of rows: {len(df)}\")\n",
    "print(f\"Number of rows after aggregation: {len(df_aggregated)}\")\n",
    "print(f\"Number of duplicate timestamps now: {df_aggregated.index.duplicated().sum()}\")\n",
    "\n",
    "# Now, use this df_aggregated for your analysis\n",
    "df = df_aggregated.copy()"
   ]
  },
  {
   "cell_type": "markdown",
   "id": "3adb3f9f",
   "metadata": {},
   "source": [
    "## Handle Missing Values"
   ]
  },
  {
   "cell_type": "code",
   "execution_count": 16,
   "id": "da123032",
   "metadata": {},
   "outputs": [
    {
     "name": "stdout",
     "output_type": "stream",
     "text": [
      "Expected records (hourly): 52551\n",
      "Existing records: 40575\n",
      "Total missing hours: 11976\n",
      "------------------------------------------------------------\n",
      "MISSING FACTS: The following time intervals are missing from the dataset:\n",
      "DatetimeIndex(['2012-10-03 07:00:00', '2012-10-03 10:00:00',\n",
      "               '2012-10-03 11:00:00', '2012-10-03 17:00:00',\n",
      "               '2012-10-05 02:00:00', '2012-10-05 04:00:00',\n",
      "               '2012-10-06 03:00:00', '2012-10-07 01:00:00',\n",
      "               '2012-10-07 02:00:00', '2012-10-09 03:00:00',\n",
      "               ...\n",
      "               '2018-03-24 05:00:00', '2018-03-24 06:00:00',\n",
      "               '2018-03-24 07:00:00', '2018-03-29 02:00:00',\n",
      "               '2018-05-05 02:00:00', '2018-06-02 02:00:00',\n",
      "               '2018-08-07 07:00:00', '2018-08-07 08:00:00',\n",
      "               '2018-08-07 09:00:00', '2018-08-23 02:00:00'],\n",
      "              dtype='datetime64[ns]', length=11976, freq=None)\n",
      "\n",
      "Total missing time intervals: 11976\n"
     ]
    }
   ],
   "source": [
    "\n",
    "# --- Find the missing values ---\n",
    "\n",
    "# 1. Create an ideal date index, with hourly frequency ('h'),\n",
    "#    from the first date to the last date recorded in your dataset.\n",
    "start_date = df.index.min()\n",
    "end_date = df.index.max()\n",
    "\n",
    "# 'h' means 'hourly' frequency\n",
    "ideal_index = pd.date_range(start=start_date, end=end_date, freq='h')\n",
    "\n",
    "# Print a summary comparing the ideal index with the actual DataFrame index\n",
    "print(f\"Expected records (hourly): {len(ideal_index)}\")\n",
    "print(f\"Existing records: {len(df)}\")\n",
    "print(f\"Total missing hours: {len(ideal_index) - len(df)}\")\n",
    "print(\"-\" * 60)\n",
    "\n",
    "# 2. Find out which dates/times are in the ideal index but not in the index of your DataFrame\n",
    "missing_dates = ideal_index.difference(df.index)\n",
    "\n",
    "if missing_dates.empty:\n",
    "    print(\"No missing time intervals found!\")\n",
    "else:\n",
    "    print(\"MISSING FACTS: The following time intervals are missing from the dataset:\")\n",
    "    print(missing_dates)\n",
    "\n",
    "print(f\"\\nTotal missing time intervals: {len(missing_dates)}\")\n"
   ]
  }
 ],
 "metadata": {
  "kernelspec": {
   "display_name": ".venv (3.12.3)",
   "language": "python",
   "name": "python3"
  },
  "language_info": {
   "codemirror_mode": {
    "name": "ipython",
    "version": 3
   },
   "file_extension": ".py",
   "mimetype": "text/x-python",
   "name": "python",
   "nbconvert_exporter": "python",
   "pygments_lexer": "ipython3",
   "version": "3.12.3"
  }
 },
 "nbformat": 4,
 "nbformat_minor": 5
}
